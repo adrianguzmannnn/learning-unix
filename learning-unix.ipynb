{
 "cells": [
  {
   "cell_type": "markdown",
   "metadata": {},
   "source": [
    "## From ***Unix for Mac OS X Users*** by Kevin Skoglund assuming ***Bash*** as the shell"
   ]
  },
  {
   "cell_type": "markdown",
   "metadata": {},
   "source": [
    "Unix is an operating system and was developed by AT&T employees at Bell Labs between 1969-1971. In 1972, it was re-written in the C programming language. It was generally written in assembly, which is low-level software for specific hardware. C was developed for the Unix OS. C allowed Unix to be portable."
   ]
  },
  {
   "cell_type": "markdown",
   "metadata": {},
   "source": [
    "Branches and improvements (1977-present):\n",
    "1. BSD (Berkeley Software Distribution), Linux\n",
    "2. Solaris (Sun/Oracle), AIX (IBM), HP/UX (Hewlett-Packard)\n",
    "3. Mac OS X (Apple -- BSD + NeXT + Apple = Darwin)\n",
    "\n",
    "The iPhone, iPad, and Android devices are Unix. "
   ]
  },
  {
   "cell_type": "markdown",
   "metadata": {},
   "source": [
    "The kernel is the core of the OS, which allocates time and memory to programs. The shell is the outer layer \n",
    "of the OS, which interacts with the user and sends requests to the kernel. Popular shells: C Shell (1979) csh, Bourne-Again Shell (1987) bash, Z Shell (1990) zsh."
   ]
  },
  {
   "cell_type": "markdown",
   "metadata": {},
   "source": [
    "### Interacting with the shell"
   ]
  },
  {
   "cell_type": "code",
   "execution_count": null,
   "metadata": {},
   "outputs": [],
   "source": [
    "!echo \"Hello, World.\""
   ]
  },
  {
   "cell_type": "markdown",
   "metadata": {},
   "source": [
    "Useful commands:\n",
    "\n",
    "1. CTRL + a: move cursor to the start of the line\n",
    "2. CTRL + e: move cursor to the end of the line\n",
    "3. Tab for auto-complete"
   ]
  },
  {
   "cell_type": "markdown",
   "metadata": {},
   "source": [
    "__Common command structure__: command options arguments"
   ]
  },
  {
   "cell_type": "code",
   "execution_count": null,
   "metadata": {},
   "outputs": [],
   "source": [
    "!echo $SHELL # See what is the default shell."
   ]
  },
  {
   "cell_type": "code",
   "execution_count": null,
   "metadata": {},
   "outputs": [],
   "source": [
    "!echo $0 # See what is the current active shell."
   ]
  },
  {
   "cell_type": "markdown",
   "metadata": {},
   "source": [
    "List of available shells: sh, csh, tcsh, bash, zsh. Simply type these into the command line to active them and \n",
    "enter `exit` to leave the activated environment."
   ]
  },
  {
   "cell_type": "code",
   "execution_count": null,
   "metadata": {},
   "outputs": [],
   "source": [
    "!man echo # Get manual pages for the `echo` command."
   ]
  },
  {
   "cell_type": "code",
   "execution_count": null,
   "metadata": {},
   "outputs": [],
   "source": [
    "!man banner # Get manual pages for the `banner` command."
   ]
  },
  {
   "cell_type": "code",
   "execution_count": null,
   "metadata": {},
   "outputs": [],
   "source": [
    "!man -h # --help"
   ]
  },
  {
   "cell_type": "code",
   "execution_count": null,
   "metadata": {},
   "outputs": [],
   "source": [
    "!man -k banner # apropos bannner, whatis banner"
   ]
  },
  {
   "cell_type": "markdown",
   "metadata": {},
   "source": [
    "For paths, it's forward-slash (/) for Unix/Apple and back-slash (\\) for Windows. cd / represents the root of our hard-drive, while cd ~ moves us to our user directory and cd - takes you to the\n",
    "previous directory that the user was in. When naming a file in Unix, avoid using /\\*&%?$|^~<> and use A-Z, a-z, 0-9, underscore, hyphen instead."
   ]
  },
  {
   "cell_type": "code",
   "execution_count": null,
   "metadata": {},
   "outputs": [],
   "source": [
    "!ls -lah # h -> human-readable file size"
   ]
  },
  {
   "cell_type": "markdown",
   "metadata": {},
   "source": [
    "![](unix_folder_structure.png)"
   ]
  },
  {
   "cell_type": "markdown",
   "metadata": {},
   "source": [
    "###  Working with files and directories"
   ]
  },
  {
   "cell_type": "code",
   "execution_count": null,
   "metadata": {},
   "outputs": [],
   "source": [
    "!cat <filename>"
   ]
  },
  {
   "cell_type": "code",
   "execution_count": null,
   "metadata": {},
   "outputs": [],
   "source": [
    "!less <filename> # preferred over \"more\" and \"cat\". \"less -N <filename>\" shows the file with line numbers."
   ]
  },
  {
   "cell_type": "code",
   "execution_count": null,
   "metadata": {},
   "outputs": [],
   "source": [
    "!mkdir -p test1/test2/test3 # creates all directories including the parents that don't exist."
   ]
  },
  {
   "cell_type": "markdown",
   "metadata": {},
   "source": [
    "Moving files/folders"
   ]
  },
  {
   "cell_type": "code",
   "execution_count": null,
   "metadata": {},
   "outputs": [],
   "source": [
    "!mv <location/file> <new_location/file> # -i (interactive), -f (force overwrite), -n (do not overwrite), -v (verbose)"
   ]
  },
  {
   "cell_type": "markdown",
   "metadata": {},
   "source": [
    "Copying files/folder"
   ]
  },
  {
   "cell_type": "code",
   "execution_count": null,
   "metadata": {},
   "outputs": [],
   "source": [
    "!cp <location/file> <location/new_file> # -i (interactive), -f (force overwrite), -n (do not overwrite), -v (verbose)\n",
    "# -r (recursive -- for directories) "
   ]
  },
  {
   "cell_type": "markdown",
   "metadata": {},
   "source": [
    "Deleting files/folder"
   ]
  },
  {
   "cell_type": "code",
   "execution_count": null,
   "metadata": {},
   "outputs": [],
   "source": [
    "!rm <file/folder> # -r (recursive -- for directories)"
   ]
  },
  {
   "cell_type": "markdown",
   "metadata": {},
   "source": [
    "Searching for files/folders"
   ]
  },
  {
   "cell_type": "code",
   "execution_count": null,
   "metadata": {},
   "outputs": [],
   "source": [
    "!find <path> <expression> # find ~/Documents -name \"image.jpg\", find ~/Documents -name \"*.jpg\""
   ]
  },
  {
   "cell_type": "markdown",
   "metadata": {},
   "source": [
    "### Ownership and Permission"
   ]
  },
  {
   "cell_type": "code",
   "execution_count": null,
   "metadata": {},
   "outputs": [],
   "source": [
    "!whoami # tells you your account"
   ]
  },
  {
   "cell_type": "code",
   "execution_count": null,
   "metadata": {},
   "outputs": [],
   "source": [
    "!echo $HOME # home directory"
   ]
  },
  {
   "cell_type": "code",
   "execution_count": null,
   "metadata": {},
   "outputs": [],
   "source": [
    "!groups # lists permission groups you are a part of"
   ]
  },
  {
   "cell_type": "code",
   "execution_count": null,
   "metadata": {},
   "outputs": [],
   "source": [
    "!chown <account>:<group> <name of file or directory> # change ownership"
   ]
  },
  {
   "cell_type": "code",
   "execution_count": null,
   "metadata": {},
   "outputs": [],
   "source": [
    "!chown :<group> <name of file or directory>"
   ]
  },
  {
   "cell_type": "code",
   "execution_count": null,
   "metadata": {},
   "outputs": [],
   "source": [
    "!chown -r <account> <name of file or directory> # recursive for everything in a directory"
   ]
  },
  {
   "cell_type": "markdown",
   "metadata": {},
   "source": [
    "![](alpha_notation.png)"
   ]
  },
  {
   "cell_type": "markdown",
   "metadata": {},
   "source": [
    "For the example above, `rwxrw-r--`."
   ]
  },
  {
   "cell_type": "code",
   "execution_count": null,
   "metadata": {},
   "outputs": [],
   "source": [
    "!chmod ugo=rwx <filename>"
   ]
  },
  {
   "cell_type": "code",
   "execution_count": null,
   "metadata": {},
   "outputs": [],
   "source": [
    "!chmod u=rwx, g=rw, o=r <filename>"
   ]
  },
  {
   "cell_type": "code",
   "execution_count": null,
   "metadata": {},
   "outputs": [],
   "source": [
    "!chmod ug+w <filename>"
   ]
  },
  {
   "cell_type": "code",
   "execution_count": null,
   "metadata": {},
   "outputs": [],
   "source": [
    "!chmod o-w <filename>"
   ]
  },
  {
   "cell_type": "code",
   "execution_count": null,
   "metadata": {},
   "outputs": [],
   "source": [
    "!chmod -r g+w <folder>"
   ]
  },
  {
   "cell_type": "markdown",
   "metadata": {},
   "source": [
    "Octal notation: r = 4, w = 2, x = 1."
   ]
  },
  {
   "cell_type": "markdown",
   "metadata": {},
   "source": [
    "![](octal.png)"
   ]
  },
  {
   "cell_type": "markdown",
   "metadata": {},
   "source": [
    "Examples: `rwxrw-r--` = 764, `chmod 777 filename`, `chmod 764 filename`, `chmod 755 filename`"
   ]
  },
  {
   "cell_type": "markdown",
   "metadata": {},
   "source": [
    "### Commands and programs"
   ]
  },
  {
   "cell_type": "code",
   "execution_count": null,
   "metadata": {},
   "outputs": [],
   "source": [
    "!whereis echo"
   ]
  },
  {
   "cell_type": "code",
   "execution_count": null,
   "metadata": {},
   "outputs": [],
   "source": [
    "!which echo"
   ]
  },
  {
   "cell_type": "code",
   "execution_count": null,
   "metadata": {},
   "outputs": [],
   "source": [
    "!whatis echo"
   ]
  },
  {
   "cell_type": "markdown",
   "metadata": {},
   "source": [
    "Exit: `CTRL + q`, `CTRL + x`, Force quit (but program may keep running): `CTRL + c`"
   ]
  },
  {
   "cell_type": "code",
   "execution_count": null,
   "metadata": {},
   "outputs": [],
   "source": [
    "!echo $PATH # the $PATH variable is used to localize programs "
   ]
  },
  {
   "cell_type": "code",
   "execution_count": null,
   "metadata": {},
   "outputs": [],
   "source": [
    "!PATH=/usr/bin # re-define path"
   ]
  },
  {
   "cell_type": "code",
   "execution_count": null,
   "metadata": {},
   "outputs": [],
   "source": [
    "!date"
   ]
  },
  {
   "cell_type": "code",
   "execution_count": null,
   "metadata": {},
   "outputs": [],
   "source": [
    "!who"
   ]
  },
  {
   "cell_type": "code",
   "execution_count": null,
   "metadata": {},
   "outputs": [],
   "source": [
    "!uname -mnrsvp"
   ]
  },
  {
   "cell_type": "code",
   "execution_count": null,
   "metadata": {},
   "outputs": [],
   "source": [
    "!hostname"
   ]
  },
  {
   "cell_type": "code",
   "execution_count": null,
   "metadata": {},
   "outputs": [],
   "source": [
    "!domainname"
   ]
  },
  {
   "cell_type": "code",
   "execution_count": null,
   "metadata": {},
   "outputs": [],
   "source": [
    "!df -h # disk free"
   ]
  },
  {
   "cell_type": "code",
   "execution_count": null,
   "metadata": {},
   "outputs": [],
   "source": [
    "!du ~ # disk usage"
   ]
  },
  {
   "cell_type": "code",
   "execution_count": null,
   "metadata": {},
   "outputs": [],
   "source": [
    "!ps # process status, snapshot of running processes"
   ]
  },
  {
   "cell_type": "code",
   "execution_count": null,
   "metadata": {},
   "outputs": [],
   "source": [
    "!ps aux # a-all, u-include columns of users, x-background processes"
   ]
  },
  {
   "cell_type": "code",
   "execution_count": null,
   "metadata": {},
   "outputs": [],
   "source": [
    "!top # list of top processes"
   ]
  },
  {
   "cell_type": "code",
   "execution_count": null,
   "metadata": {},
   "outputs": [],
   "source": [
    "!kill <process_id> # kills a process that has process_id"
   ]
  },
  {
   "cell_type": "code",
   "execution_count": null,
   "metadata": {},
   "outputs": [],
   "source": [
    "!kill -9 <process_id> # forcibly kills a process that has process_id"
   ]
  },
  {
   "cell_type": "code",
   "execution_count": null,
   "metadata": {},
   "outputs": [],
   "source": [
    "!history # see commands in .bash_history -- numbered order (!# to run)"
   ]
  },
  {
   "cell_type": "code",
   "execution_count": null,
   "metadata": {},
   "outputs": [],
   "source": [
    "!<characters> # runs the command in .bash_history containing the characters"
   ]
  },
  {
   "cell_type": "markdown",
   "metadata": {},
   "source": [
    "### Configuring the environment"
   ]
  },
  {
   "cell_type": "markdown",
   "metadata": {},
   "source": [
    "`.bash_profile`\n",
    "```bash\n",
    "if [ -f ~/.bashrc ]; then\n",
    "  source ~/.bashrc\n",
    "fi\n",
    "```"
   ]
  },
  {
   "cell_type": "code",
   "execution_count": null,
   "metadata": {},
   "outputs": [],
   "source": [
    "!alias # return a list of all aliases"
   ]
  },
  {
   "cell_type": "markdown",
   "metadata": {},
   "source": [
    "```bash\n",
    "echo -n \"Uptime: \"; uptime\n",
    "echo \"\"\n",
    "\n",
    "MYNAME='Kevin Skoglund'\n",
    "export MYNAME\n",
    "\n",
    "# must use double-quotes when calling a shell variable\n",
    "export PATH=\"/usr/local/bin:/usr/local/sbin:/usr/local/mysql/bin:$PATH\"\n",
    "\n",
    "export LESS='-M'\n",
    "\n",
    "export HISTSIZE=10000  # 500 is default, 0 will disable history\n",
    "export HISTFILESIZE=1000000\n",
    "export HISTTIMEFORMAT='%b %d %I:%M %p '\n",
    "#export HISTCONTROL=ignoredups\n",
    "#export HISTCONTROL=ignorespace\n",
    "export HISTCONTROL=ignoreboth\n",
    "export HISTIGNORE=\"history:pwd:ls:ls -la:ll\"\n",
    "\n",
    "export PS1=\"\\W > \"\n",
    "\n",
    "# GREP_COLOR codes\n",
    "# Attributes:   Text color:    Background:\n",
    "#   0 reset all   30 black       40 black\n",
    "#   1 bright      31 red         41 red\n",
    "#   2 dim         32 green       42 green\n",
    "#   4 underscore  33 yellow      43 yellow\n",
    "#   5 blink       34 blue        44 blue\n",
    "#   7 reverse     35 purple      45 purple\n",
    "#   8 hidden      36 cyan        46 cyan\n",
    "#                 37 white       47 white\n",
    "# Separate with \";\"\n",
    "#\n",
    "export GREP_COLOR=\"34;47\"\n",
    "\n",
    "# Specify options grep should use by default\n",
    "export GREP_OPTIONS=\"--color=auto\"\n",
    "\n",
    "\n",
    "alias ll='ls -lahG'\n",
    "alias home='cd ~'\n",
    "alias up='cd ..'\n",
    "alias h='history'\n",
    "\n",
    "# can also redefine a command to add options\n",
    "alias mv='mv -i'\n",
    "alias cp='cp -i'\n",
    "alias rm='rm -i'\n",
    "alias df='df -h'\n",
    "alias du='du -h'\n",
    "alias mkdir='mkdir -p'\n",
    "\n",
    "# can be used to fix common typos you make\n",
    "alias pdw='pwd'\n",
    "```"
   ]
  },
  {
   "cell_type": "markdown",
   "metadata": {},
   "source": [
    "![](customize_command_prompt.png)"
   ]
  },
  {
   "cell_type": "markdown",
   "metadata": {},
   "source": [
    "### Unix power tools"
   ]
  },
  {
   "cell_type": "code",
   "execution_count": null,
   "metadata": {},
   "outputs": [],
   "source": [
    "!grep <regex> <file> # -w=whole word match"
   ]
  },
  {
   "cell_type": "code",
   "execution_count": null,
   "metadata": {},
   "outputs": [],
   "source": [
    "!grep -r <regex> <directory> # -r=recursively search directory"
   ]
  },
  {
   "cell_type": "code",
   "execution_count": null,
   "metadata": {},
   "outputs": [],
   "source": [
    "!ps aux | grep <regex>"
   ]
  },
  {
   "cell_type": "code",
   "execution_count": null,
   "metadata": {},
   "outputs": [],
   "source": [
    "!history | grep <regex>"
   ]
  }
 ],
 "metadata": {
  "kernelspec": {
   "display_name": "Python 3",
   "language": "python",
   "name": "python3"
  },
  "language_info": {
   "codemirror_mode": {
    "name": "ipython",
    "version": 3
   },
   "file_extension": ".py",
   "mimetype": "text/x-python",
   "name": "python",
   "nbconvert_exporter": "python",
   "pygments_lexer": "ipython3",
   "version": "3.7.3"
  }
 },
 "nbformat": 4,
 "nbformat_minor": 2
}
